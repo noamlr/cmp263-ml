{
 "cells": [
  {
   "cell_type": "code",
   "execution_count": 31,
   "metadata": {},
   "outputs": [],
   "source": [
    "import pandas as pd\n",
    "import yaml\n",
    "import numpy as np\n",
    "import random\n",
    "from math import log2"
   ]
  },
  {
   "cell_type": "code",
   "execution_count": 27,
   "metadata": {},
   "outputs": [],
   "source": [
    "class Dataset():\n",
    "    data = pd.DataFrame()\n",
    "    categorical_features = []\n",
    "    continuous_features = []\n",
    "    yaml_structure = {}\n",
    "    target_feature = ''\n",
    "    target_type = ''\n",
    "\n",
    "    '''\n",
    "    Load the CSV/TSV file, saves it in data\n",
    "    '''\n",
    "    def load_dataset(self, input_path, separator):\n",
    "        self.data = pd.read_csv(input_path, sep=separator)\n",
    "    \n",
    "    \n",
    "    '''\n",
    "    Read the structure and get the types of the columns in two list [categorical, coninuous]\n",
    "    Set target_column and target_type\n",
    "    '''\n",
    "    def read_structure(self, input_file, target_column):\n",
    "        with open(input_file) as f:\n",
    "            self.yaml_structure = yaml.load(f, Loader=yaml.FullLoader)\n",
    "        self.target_feature = target_column\n",
    "        self.target_type = self.yaml_structure['target']['type']\n",
    "        \n",
    "        self.categorical_features = []\n",
    "        self.continuous_features = []\n",
    "        \n",
    "        for feature in self.yaml_structure['features']:\n",
    "            if feature['type'] == 'continuous':\n",
    "                self.continuous_features.append(feature['name'])\n",
    "            else:\n",
    "                self.categorical_features.append(feature['name'])\n",
    "\n",
    "    \n",
    "    '''\n",
    "    Initialization\n",
    "    '''\n",
    "    def __init__(self, file_dataset_path, file_structure_path, char_separator='\\t', target_column='target'):\n",
    "        self.load_dataset(file_dataset_path, char_separator)\n",
    "        self.read_structure(file_structure_path, target_column)"
   ]
  },
  {
   "cell_type": "code",
   "execution_count": 107,
   "metadata": {},
   "outputs": [],
   "source": [
    "def get_entropy(df, tgt_col='target', eval_col='', categorical=False):\n",
    "    uniq_tgts = df[tgt_col].unique()\n",
    "    uniq_evals = df[eval_col].unique()\n",
    "    len_df = len(df)\n",
    "    \n",
    "    # Validate if len(df)>0, else return 0\n",
    "    \n",
    "    orig_entr = 0\n",
    "    for curr_tgt in uniq_tgts:\n",
    "        curr_len = len(df.loc[df[tgt_col] ==curr_tgt])\n",
    "        if curr_len!=0:\n",
    "            orig_entr -= (curr_len/len_df)*log2(curr_len/len_df)\n",
    "    \n",
    "#     print(orig_entr)\n",
    "    \n",
    "    eval_entr = 0\n",
    "    for curr_eval in uniq_evals:\n",
    "        len_eval = len(df[df[eval_col] == curr_eval])\n",
    "        curr_info = 0\n",
    "        for curr_tgt in uniq_tgts:\n",
    "            curr_len = len(df.loc[(df[eval_col] == curr_eval) & (df[tgt_col] ==curr_tgt)])\n",
    "            if curr_len != 0 and len_eval != 0:\n",
    "                curr_info -= (curr_len/len_eval)*log2(curr_len/len_eval)\n",
    "#         print(f'curr_val: {curr_eval}, value: {curr_info}')\n",
    "        \n",
    "        eval_entr += (len_eval/len_df)*curr_info\n",
    "    eval_entr = orig_entr - eval_entr\n",
    "    print(f'total: {eval_entr}')\n",
    "    return eval_entr"
   ]
  },
  {
   "cell_type": "code",
   "execution_count": 108,
   "metadata": {},
   "outputs": [],
   "source": [
    "def select_best_column(df, tgt_col='target', cols=[]):\n",
    "    for col in cols:\n",
    "        print(col)\n",
    "        curr_entr = get_entropy(df, tgt_col=tgt_col, eval_col=col, categorical=True)"
   ]
  },
  {
   "cell_type": "code",
   "execution_count": 109,
   "metadata": {},
   "outputs": [],
   "source": [
    "INPUT_PATH = 'data/test_benchmark/test_benchmark.csv'\n",
    "STRUCTURE_PATH = 'data/test_benchmark/metadata.yaml'\n",
    "obj = Dataset(INPUT_PATH, STRUCTURE_PATH, ';', 'target')"
   ]
  },
  {
   "cell_type": "code",
   "execution_count": 112,
   "metadata": {},
   "outputs": [
    {
     "data": {
      "text/plain": [
       "['Tempo', 'Temperatura', 'Umidade', 'Ventoso']"
      ]
     },
     "execution_count": 112,
     "metadata": {},
     "output_type": "execute_result"
    }
   ],
   "source": [
    "obj.categorical_features"
   ]
  },
  {
   "cell_type": "code",
   "execution_count": 111,
   "metadata": {},
   "outputs": [
    {
     "name": "stdout",
     "output_type": "stream",
     "text": [
      "Tempo\n",
      "total: 0.2467498197744391\n",
      "Temperatura\n",
      "total: 0.029222565658954647\n",
      "Umidade\n",
      "total: 0.15183550136234136\n",
      "Ventoso\n",
      "total: 0.04812703040826927\n"
     ]
    }
   ],
   "source": [
    "select_best_column(obj.data, tgt_col='target', cols=obj.categorical_features)"
   ]
  },
  {
   "cell_type": "code",
   "execution_count": null,
   "metadata": {},
   "outputs": [],
   "source": []
  },
  {
   "cell_type": "code",
   "execution_count": null,
   "metadata": {},
   "outputs": [],
   "source": []
  }
 ],
 "metadata": {
  "kernelspec": {
   "display_name": "Python 3",
   "language": "python",
   "name": "python3"
  },
  "language_info": {
   "codemirror_mode": {
    "name": "ipython",
    "version": 3
   },
   "file_extension": ".py",
   "mimetype": "text/x-python",
   "name": "python",
   "nbconvert_exporter": "python",
   "pygments_lexer": "ipython3",
   "version": "3.6.9"
  }
 },
 "nbformat": 4,
 "nbformat_minor": 4
}
