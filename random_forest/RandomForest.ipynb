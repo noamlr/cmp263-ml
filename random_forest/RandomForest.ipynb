{
 "cells": [
  {
   "cell_type": "code",
   "execution_count": 37,
   "metadata": {},
   "outputs": [],
   "source": [
    "import pandas as pd\n",
    "import yaml\n",
    "import numpy as np\n",
    "import random\n",
    "from math import log2, sqrt\n",
    "from dataset import Dataset\n",
    "from node_tree import Node"
   ]
  },
  {
   "cell_type": "markdown",
   "metadata": {},
   "source": [
    "# Gain Ratio"
   ]
  },
  {
   "cell_type": "code",
   "execution_count": 38,
   "metadata": {},
   "outputs": [],
   "source": [
    "def get_gain_ratio(df, TGT_COL='target', EVAL_COL='', CATEGORICAL=False):\n",
    "#     print(df)\n",
    "    uniq_tgts = df[TGT_COL].unique()\n",
    "    uniq_d_a_vals = df[EVAL_COL].unique() #uniq_evals\n",
    "    len_d_tot = len(df)\n",
    "    \n",
    "    # Validate if len(df)>0, else return 0\n",
    "    if len_d_tot == 0: return 0\n",
    "    \n",
    "    sel_cut_point = None\n",
    "    \n",
    "    inf_d_tot = 0\n",
    "    for curr_tgt in uniq_tgts:\n",
    "        curr_len = len(df.loc[df[TGT_COL] ==curr_tgt])\n",
    "        if curr_len!=0:\n",
    "            inf_d_tot -= (curr_len/len_d_tot)*log2(curr_len/len_d_tot) ## Respect to Target Column\n",
    "    \n",
    "    gain_ratio_a = 0\n",
    "    if CATEGORICAL is True:\n",
    "        inf_d_a = 0\n",
    "        split_info_a = 0\n",
    "        for curr_d_aj in uniq_d_a_vals: #curr_eval\n",
    "            '''Gain A: Begin'''\n",
    "            len_d_aj = len(df[df[EVAL_COL] == curr_d_aj]) #len_eval\n",
    "            inf_d_aj = 0\n",
    "            for curr_tgt in uniq_tgts:\n",
    "                curr_len = len(df.loc[(df[EVAL_COL] == curr_d_aj) & (df[TGT_COL] ==curr_tgt)])\n",
    "                if curr_len != 0 and len_d_aj != 0:\n",
    "                    inf_d_aj -= (curr_len/len_d_aj)*log2(curr_len/len_d_aj)\n",
    "    #         print(f'curr_val: {curr_eval}, value: {curr_info}')\n",
    "            inf_d_a += (len_d_aj/len_d_tot)*inf_d_aj\n",
    "            '''Gain A: End'''\n",
    "            '''Split Info A: Begin'''\n",
    "            if len_d_aj != 0 and len_d_tot != 0:\n",
    "                split_info_a -= (len_d_aj/len_d_tot)*log2(len_d_aj/len_d_tot)  ## Respect to column to be split\n",
    "            '''Split Info A: End'''\n",
    "        gain_a = inf_d_tot - inf_d_a\n",
    "        if split_info_a != 0:\n",
    "            gain_ratio_a = gain_a / split_info_a\n",
    "        else:\n",
    "            gain_ratio_a = 0\n",
    "#         print(f'{EVAL_COL}:   inf_d_tot: {inf_d_tot}, inf_d_a: {inf_d_a}, gain_a: {gain_a}, split_info_a: {split_info_a}, gain_ratio: {gain_ratio_a}')\n",
    "    else: \n",
    "        ### Mean for cut point:\n",
    "        mean_val_point = df[EVAL_COL].mean()\n",
    "    \n",
    "#         for curr_cut_point in qt_points:\n",
    "        inf_d_a = 0\n",
    "        split_info_a = 0\n",
    "        '''Gain A: Begin'''\n",
    "        '''    < cut_point '''\n",
    "        len_d_aj = len(df[df[EVAL_COL] < mean_val_point]) #len_eval\n",
    "        inf_d_aj = 0\n",
    "        for curr_tgt in uniq_tgts:\n",
    "            curr_len = len(df.loc[(df[EVAL_COL] < mean_val_point) & (df[TGT_COL] ==curr_tgt)])\n",
    "            if curr_len != 0 and len_d_aj != 0:\n",
    "                inf_d_aj -= (curr_len/len_d_aj)*log2(curr_len/len_d_aj)\n",
    "#         print(f'curr_val: {curr_eval}, value: {curr_info}')\n",
    "        inf_d_a += (len_d_aj/len_d_tot)*inf_d_aj\n",
    "        '''   >= cut_point '''\n",
    "        len_d_aj =  len_d_tot - len_d_aj\n",
    "        inf_d_aj = 0\n",
    "        for curr_tgt in uniq_tgts:\n",
    "            curr_len = len(df.loc[(df[EVAL_COL] >= mean_val_point) & (df[TGT_COL] ==curr_tgt)])\n",
    "            if curr_len != 0 and len_d_aj != 0:\n",
    "                inf_d_aj -= (curr_len/len_d_aj)*log2(curr_len/len_d_aj)\n",
    "#         print(f'curr_val: {curr_eval}, value: {curr_info}')\n",
    "        inf_d_a += (len_d_aj/len_d_tot)*inf_d_aj\n",
    "        '''Gain A: End'''\n",
    "        '''Split Info A: Begin'''\n",
    "        if len_d_aj != 0 and len_d_tot != 0 and len_d_aj != len_d_tot:\n",
    "            #if len_d_aj < 10: print(f'values: {list(df[EVAL_COL])}')\n",
    "            #print(f'col2:{EVAL_COL} len_d_aj: {len_d_aj}, len_d_tot: {len_d_tot}, point:{mean_val_point}')\n",
    "            len_d_aj = len(df[df[EVAL_COL] < mean_val_point]) #len_eval\n",
    "            split_info_a -= (len_d_aj/len_d_tot)*log2(len_d_aj/len_d_tot)\n",
    "            len_d_aj = len_d_tot - len_d_aj\n",
    "            split_info_a -= (len_d_aj/len_d_tot)*log2(len_d_aj/len_d_tot)\n",
    "        '''Split Info A: End'''\n",
    "        gain_a = inf_d_tot - inf_d_a\n",
    "        if split_info_a != 0: \n",
    "            gain_ratio_a = gain_a / split_info_a\n",
    "        else:\n",
    "            gain_ratio_a = 0\n",
    "        sel_cut_point = mean_val_point\n",
    "#         print(f'For cut_point: {mean_val_point}, inf_d_tot: {inf_d_tot}, inf_d_a: {inf_d_a}, gain_a: {gain_a}, split_info_a: {split_info_a}, gain_ratio: {gain_ratio_a}')\n",
    "            \n",
    "    return (gain_ratio_a, sel_cut_point)"
   ]
  },
  {
   "cell_type": "code",
   "execution_count": 39,
   "metadata": {},
   "outputs": [],
   "source": [
    "'''\n",
    "cols: [(nom_col, True), (nom_col1, True), (nom_col2, False) ... ]  ........ True if categorical, Otherwise False\n",
    "'''\n",
    "def select_best_column(df, tgt_col='target', cols=[], m=5):\n",
    "    best_param = ('None', 0, 0)\n",
    "    rand_cols = random.sample(cols, k=m)\n",
    "#     print(f'rand_cols: {rand_cols}')\n",
    "    for col in rand_cols:\n",
    "        curr_entr, cut_point = get_gain_ratio(df, TGT_COL=tgt_col, EVAL_COL=col[0], CATEGORICAL=col[1])\n",
    "        if best_param[2] <= curr_entr:\n",
    "            best_param = (col[0], cut_point, curr_entr)\n",
    "    return best_param\n",
    "    "
   ]
  },
  {
   "cell_type": "code",
   "execution_count": 40,
   "metadata": {},
   "outputs": [],
   "source": [
    "def build_tree(parent_node, df, tgt_col, cols, m):\n",
    "#     print(df)\n",
    "    # (col_name, cut_point, score)\n",
    "    best_param = select_best_column(df, tgt_col=tgt_col, cols=cols, m=m)\n",
    "#     print(f'best_param: {best_param}')\n",
    "    new_cols = []\n",
    "    for c in cols:\n",
    "        if c[0] != best_param[0]:\n",
    "            new_cols.append(c)\n",
    "#     print(f'new_cols: {new_cols}')\n",
    "    \n",
    "    '''Numerical'''\n",
    "    if best_param[1] is not None: # Numerical\n",
    "        parent_node.set_children_type('N')\n",
    "               \n",
    "        ''' Left child '''\n",
    "        df_temp = df[df[best_param[0]] < best_param[1]]\n",
    "        data_temp = {'is_leaf': False, 'answer': None, 'column': best_param[0], 'value_to_check': best_param[1], 'check_less': True}\n",
    "        tgt_uniq_vals = df_temp[tgt_col].unique()\n",
    "\n",
    "        data_temp['answer'] = max(set(list(df_temp[tgt_col])), key = list(df_temp[tgt_col]).count)\n",
    "        \n",
    "        if len(tgt_uniq_vals) == 1:  # Is leaf\n",
    "            data_temp['is_leaf'] = True\n",
    "            data_temp['answer'] = tgt_uniq_vals[0]\n",
    "\n",
    "        node_temp = Node(data_temp)\n",
    "        parent_node.insert_node(node_temp)\n",
    "\n",
    "        if len(tgt_uniq_vals) > 1:\n",
    "#             print(f'1. tgt_uniq_vals: {list(df_temp[tgt_col])}')\n",
    "            build_tree(node_temp, df_temp, tgt_col, new_cols, m)\n",
    "            \n",
    "        ''' Right child '''\n",
    "        df_temp = df[df[best_param[0]] >= best_param[1]]\n",
    "        data_temp = {'is_leaf': False, 'answer': None, 'column': best_param[0], 'value_to_check': best_param[1], 'check_less': False}\n",
    "        tgt_uniq_vals = df_temp[tgt_col].unique()\n",
    "\n",
    "        data_temp['answer'] = max(set(list(df_temp[tgt_col])), key = list(df_temp[tgt_col]).count)\n",
    "        \n",
    "        if len(tgt_uniq_vals) == 1:  # Is leaf\n",
    "            data_temp['is_leaf'] = True\n",
    "            data_temp['answer'] = tgt_uniq_vals[0]\n",
    "\n",
    "        node_temp = Node(data_temp)\n",
    "        parent_node.insert_node(node_temp)\n",
    "\n",
    "        if len(tgt_uniq_vals) > 1:\n",
    "#             print(f'2. tgt_uniq_vals: {list(df_temp[tgt_col])}')\n",
    "            build_tree(node_temp, df_temp, tgt_col, new_cols, m)\n",
    "    else:\n",
    "        '''Categorical'''\n",
    "        parent_node.set_children_type('C')\n",
    "        uniq_vals = df[best_param[0]].unique()\n",
    "        \n",
    "        for val in uniq_vals:\n",
    "            df_temp = df[df[best_param[0]] == val]\n",
    "            data_temp = {'is_leaf': False, 'answer': None, 'column': best_param[0], 'value_to_check': val, 'check_less': None}\n",
    "            tgt_uniq_vals = df_temp[tgt_col].unique()\n",
    "            \n",
    "            data_temp['answer'] = max(set(list(df_temp[tgt_col])), key = list(df_temp[tgt_col]).count)\n",
    "            \n",
    "            if len(tgt_uniq_vals) == 1:  # Is leaf\n",
    "                data_temp['is_leaf'] = True\n",
    "                data_temp['answer'] = tgt_uniq_vals[0]\n",
    "            \n",
    "            node_temp = Node(data_temp)\n",
    "            parent_node.insert_node(node_temp)\n",
    "            \n",
    "            if len(tgt_uniq_vals) > 1:\n",
    "#                 print(f'cat: {list(df_temp[tgt_col])}')\n",
    "                build_tree(node_temp, df_temp, tgt_col, new_cols, m)\n",
    "        \n",
    "#     print(f'best_param: {best_param}')"
   ]
  },
  {
   "cell_type": "code",
   "execution_count": 41,
   "metadata": {},
   "outputs": [],
   "source": [
    "def generate_matrix(obj, cols, k, n_tree):\n",
    "    k_folds_strat = obj.get_n_class_k_final_folds(k)\n",
    "    num_test_max = max(len(k_folds_strat[k-1][\"test\"]), len(k_folds_strat[k-2][\"test\"]))\n",
    "#     mat = np.zeros((k, n_tree, num_test_max))\n",
    "    mat = np.full((k, n_tree, num_test_max), -1)\n",
    "    mat_real_value_by_fold = np.full((k, num_test_max), -1)\n",
    "    mat_real_value_by_fold.astype(int)\n",
    "    for i in range(k): # Iterate over k folds\n",
    "        curr_boots = obj.get_n_bootstrap(k_folds_strat[i][\"train\"], n_tree)\n",
    "        print(f'\\n____Fold{i}____')\n",
    "        for j in range(len(curr_boots)): # Iterate over each tree\n",
    "            print(f'__TREE{j}__', end='')\n",
    "            # Declare and initialize root tree node \n",
    "            ans = max(set(list(curr_boots[j]['train']['target'])), key = list(curr_boots[j]['train']['target']).count)\n",
    "            data_root = {'is_leaf': False, 'answer': ans, 'column': None, 'value_to_check': None, 'check_less': None}\n",
    "            root_node = Node(data_root)\n",
    "            num_rand_cols = int(sqrt(len(cols)))\n",
    "            build_tree(root_node, curr_boots[j]['train'], 'target', cols, num_rand_cols)\n",
    "#             root_node.print_tree(level=0) # print the tree structure\n",
    "            k_it = 0\n",
    "            for idx, row in k_folds_strat[i]['test'].iterrows():\n",
    "                mat[i][j][k_it] = root_node.get_classification(row)\n",
    "                mat_real_value_by_fold[i][k_it] = row[obj.target_feature]\n",
    "                k_it+=1\n",
    "\n",
    "\n",
    "    \n",
    "    return (mat, mat_real_value_by_fold)"
   ]
  },
  {
   "cell_type": "markdown",
   "metadata": {},
   "source": [
    "# WINE DATASET"
   ]
  },
  {
   "cell_type": "code",
   "execution_count": 42,
   "metadata": {},
   "outputs": [
    {
     "name": "stdout",
     "output_type": "stream",
     "text": [
      "\n",
      "____Fold0____\n",
      "__TREE0____TREE1____TREE2____TREE3____TREE4____TREE5____TREE6____TREE7____TREE8____TREE9____TREE10____TREE11____TREE12____TREE13____TREE14____TREE15____TREE16____TREE17____TREE18____TREE19____TREE20____TREE21____TREE22____TREE23____TREE24____TREE25____TREE26____TREE27____TREE28____TREE29____TREE30____TREE31____TREE32____TREE33____TREE34____TREE35____TREE36____TREE37____TREE38____TREE39____TREE40____TREE41____TREE42____TREE43____TREE44____TREE45____TREE46____TREE47____TREE48____TREE49__\n",
      "____Fold1____\n",
      "__TREE0____TREE1____TREE2____TREE3____TREE4____TREE5____TREE6____TREE7____TREE8____TREE9____TREE10____TREE11____TREE12____TREE13____TREE14____TREE15____TREE16____TREE17____TREE18____TREE19____TREE20____TREE21____TREE22____TREE23____TREE24____TREE25____TREE26____TREE27____TREE28____TREE29____TREE30____TREE31____TREE32____TREE33____TREE34____TREE35____TREE36____TREE37____TREE38____TREE39____TREE40____TREE41____TREE42____TREE43____TREE44____TREE45____TREE46____TREE47____TREE48____TREE49__\n",
      "____Fold2____\n",
      "__TREE0____TREE1____TREE2____TREE3____TREE4____TREE5____TREE6____TREE7____TREE8____TREE9____TREE10____TREE11____TREE12____TREE13____TREE14____TREE15____TREE16____TREE17____TREE18____TREE19____TREE20____TREE21____TREE22____TREE23____TREE24____TREE25____TREE26____TREE27____TREE28____TREE29____TREE30____TREE31____TREE32____TREE33____TREE34____TREE35____TREE36____TREE37____TREE38____TREE39____TREE40____TREE41____TREE42____TREE43____TREE44____TREE45____TREE46____TREE47____TREE48____TREE49__\n",
      "____Fold3____\n",
      "__TREE0____TREE1____TREE2____TREE3____TREE4____TREE5____TREE6____TREE7____TREE8____TREE9____TREE10____TREE11____TREE12____TREE13____TREE14____TREE15____TREE16____TREE17____TREE18____TREE19____TREE20____TREE21____TREE22____TREE23____TREE24____TREE25____TREE26____TREE27____TREE28____TREE29____TREE30____TREE31____TREE32____TREE33____TREE34____TREE35____TREE36____TREE37____TREE38____TREE39____TREE40____TREE41____TREE42____TREE43____TREE44____TREE45____TREE46____TREE47____TREE48____TREE49__\n",
      "____Fold4____\n",
      "__TREE0____TREE1____TREE2____TREE3____TREE4____TREE5____TREE6____TREE7____TREE8____TREE9____TREE10____TREE11____TREE12____TREE13____TREE14____TREE15____TREE16____TREE17____TREE18____TREE19____TREE20____TREE21____TREE22____TREE23____TREE24____TREE25____TREE26____TREE27____TREE28____TREE29____TREE30____TREE31____TREE32____TREE33____TREE34____TREE35____TREE36____TREE37____TREE38____TREE39____TREE40____TREE41____TREE42____TREE43____TREE44____TREE45____TREE46____TREE47____TREE48____TREE49__\n",
      "____Fold5____\n",
      "__TREE0____TREE1____TREE2____TREE3____TREE4____TREE5____TREE6____TREE7____TREE8____TREE9____TREE10____TREE11____TREE12____TREE13____TREE14____TREE15____TREE16____TREE17____TREE18____TREE19____TREE20____TREE21____TREE22____TREE23____TREE24____TREE25____TREE26____TREE27____TREE28____TREE29____TREE30____TREE31____TREE32____TREE33____TREE34____TREE35____TREE36____TREE37____TREE38____TREE39____TREE40____TREE41____TREE42____TREE43____TREE44____TREE45____TREE46____TREE47____TREE48____TREE49__\n",
      "____Fold6____\n",
      "__TREE0____TREE1____TREE2____TREE3____TREE4____TREE5____TREE6____TREE7____TREE8____TREE9____TREE10____TREE11____TREE12____TREE13____TREE14____TREE15____TREE16____TREE17____TREE18____TREE19____TREE20____TREE21____TREE22____TREE23____TREE24____TREE25____TREE26____TREE27____TREE28____TREE29____TREE30____TREE31____TREE32____TREE33____TREE34____TREE35____TREE36____TREE37____TREE38____TREE39____TREE40____TREE41____TREE42____TREE43____TREE44____TREE45____TREE46____TREE47____TREE48____TREE49__\n",
      "____Fold7____\n",
      "__TREE0____TREE1____TREE2____TREE3____TREE4____TREE5____TREE6____TREE7____TREE8____TREE9____TREE10____TREE11____TREE12____TREE13____TREE14____TREE15____TREE16____TREE17____TREE18____TREE19____TREE20____TREE21____TREE22____TREE23____TREE24____TREE25____TREE26____TREE27____TREE28____TREE29____TREE30____TREE31____TREE32____TREE33____TREE34____TREE35____TREE36____TREE37____TREE38____TREE39____TREE40____TREE41____TREE42____TREE43____TREE44____TREE45____TREE46____TREE47____TREE48____TREE49__\n",
      "____Fold8____\n",
      "__TREE0____TREE1____TREE2____TREE3____TREE4____TREE5____TREE6____TREE7____TREE8____TREE9____TREE10____TREE11____TREE12____TREE13____TREE14____TREE15____TREE16____TREE17____TREE18____TREE19____TREE20____TREE21____TREE22____TREE23____TREE24____TREE25____TREE26____TREE27____TREE28____TREE29____TREE30____TREE31____TREE32____TREE33____TREE34____TREE35____TREE36____TREE37____TREE38____TREE39____TREE40____TREE41____TREE42____TREE43____TREE44____TREE45____TREE46____TREE47____TREE48____TREE49__\n",
      "____Fold9____\n",
      "__TREE0____TREE1____TREE2____TREE3____TREE4____TREE5____TREE6____TREE7____TREE8____TREE9____TREE10____TREE11____TREE12____TREE13____TREE14____TREE15____TREE16____TREE17____TREE18____TREE19____TREE20____TREE21____TREE22____TREE23____TREE24____TREE25____TREE26____TREE27____TREE28____TREE29____TREE30____TREE31____TREE32____TREE33____TREE34____TREE35____TREE36____TREE37____TREE38____TREE39____TREE40____TREE41____TREE42____TREE43____TREE44____TREE45____TREE46____TREE47____TREE48____TREE49__"
     ]
    }
   ],
   "source": [
    "'''\n",
    "INITIAL PARAMETERS\n",
    "\n",
    "'''\n",
    "INPUT_PATH = 'data/wine_recognition/wine-recognition.tsv'\n",
    "STRUCTURE_PATH = 'data/wine_recognition/metadata.yaml'\n",
    "obj = Dataset(INPUT_PATH, STRUCTURE_PATH, '\\t', 'target')\n",
    "random.seed(1)\n",
    "k = 10\n",
    "n_tree = 50\n",
    "\n",
    "cols = []\n",
    "cols = cols + (list(zip([str(j['name']) for j in obj.categorical_features], [True for i in range(len(obj.categorical_features))])))\n",
    "cols = cols + (list(zip([str(j['name']) for j in obj.continuous_features], [False for i in range(len(obj.continuous_features))])))\n",
    "\n",
    "(mat_pred_1, mat_real_1) = generate_matrix(obj, cols, k, n_tree)"
   ]
  },
  {
   "cell_type": "code",
   "execution_count": 43,
   "metadata": {},
   "outputs": [
    {
     "data": {
      "text/plain": [
       "array([[ 1,  1,  1,  1,  1,  2,  2,  2,  2,  2,  2,  2,  3,  3,  3,  3,\n",
       "        -1, -1, -1, -1, -1, -1, -1, -1, -1, -1, -1, -1, -1, -1, -1, -1,\n",
       "        -1, -1],\n",
       "       [ 1,  1,  1,  1,  1,  2,  2,  2,  2,  2,  2,  2,  3,  3,  3,  3,\n",
       "        -1, -1, -1, -1, -1, -1, -1, -1, -1, -1, -1, -1, -1, -1, -1, -1,\n",
       "        -1, -1],\n",
       "       [ 1,  1,  1,  1,  1,  2,  2,  2,  2,  2,  2,  2,  3,  3,  3,  3,\n",
       "        -1, -1, -1, -1, -1, -1, -1, -1, -1, -1, -1, -1, -1, -1, -1, -1,\n",
       "        -1, -1],\n",
       "       [ 1,  1,  1,  1,  1,  2,  2,  2,  2,  2,  2,  2,  3,  3,  3,  3,\n",
       "        -1, -1, -1, -1, -1, -1, -1, -1, -1, -1, -1, -1, -1, -1, -1, -1,\n",
       "        -1, -1],\n",
       "       [ 1,  1,  1,  1,  1,  2,  2,  2,  2,  2,  2,  2,  3,  3,  3,  3,\n",
       "        -1, -1, -1, -1, -1, -1, -1, -1, -1, -1, -1, -1, -1, -1, -1, -1,\n",
       "        -1, -1],\n",
       "       [ 1,  1,  1,  1,  1,  2,  2,  2,  2,  2,  2,  2,  3,  3,  3,  3,\n",
       "        -1, -1, -1, -1, -1, -1, -1, -1, -1, -1, -1, -1, -1, -1, -1, -1,\n",
       "        -1, -1],\n",
       "       [ 1,  1,  1,  1,  1,  2,  2,  2,  2,  2,  2,  2,  3,  3,  3,  3,\n",
       "        -1, -1, -1, -1, -1, -1, -1, -1, -1, -1, -1, -1, -1, -1, -1, -1,\n",
       "        -1, -1],\n",
       "       [ 1,  1,  1,  1,  1,  2,  2,  2,  2,  2,  2,  2,  3,  3,  3,  3,\n",
       "        -1, -1, -1, -1, -1, -1, -1, -1, -1, -1, -1, -1, -1, -1, -1, -1,\n",
       "        -1, -1],\n",
       "       [ 1,  1,  1,  1,  1,  2,  2,  2,  2,  2,  2,  2,  3,  3,  3,  3,\n",
       "        -1, -1, -1, -1, -1, -1, -1, -1, -1, -1, -1, -1, -1, -1, -1, -1,\n",
       "        -1, -1],\n",
       "       [ 1,  1,  1,  1,  1,  1,  1,  1,  1,  1,  1,  1,  1,  1,  2,  2,\n",
       "         2,  2,  2,  2,  2,  2,  3,  3,  3,  3,  3,  3,  3,  3,  3,  3,\n",
       "         3,  3]])"
      ]
     },
     "execution_count": 43,
     "metadata": {},
     "output_type": "execute_result"
    }
   ],
   "source": [
    "mat_real_1"
   ]
  },
  {
   "cell_type": "code",
   "execution_count": 44,
   "metadata": {},
   "outputs": [
    {
     "data": {
      "text/plain": [
       "array([[ 1,  1,  1, ..., -1, -1, -1],\n",
       "       [ 1,  1,  1, ..., -1, -1, -1],\n",
       "       [ 1,  1,  1, ..., -1, -1, -1],\n",
       "       ...,\n",
       "       [ 2,  1,  1, ..., -1, -1, -1],\n",
       "       [ 1,  1,  1, ..., -1, -1, -1],\n",
       "       [ 1,  1,  1, ..., -1, -1, -1]])"
      ]
     },
     "execution_count": 44,
     "metadata": {},
     "output_type": "execute_result"
    }
   ],
   "source": [
    "mat_pred_1[0]"
   ]
  },
  {
   "cell_type": "markdown",
   "metadata": {},
   "source": [
    "# HOUSE VOTES"
   ]
  },
  {
   "cell_type": "code",
   "execution_count": 45,
   "metadata": {},
   "outputs": [
    {
     "name": "stdout",
     "output_type": "stream",
     "text": [
      "\n",
      "____Fold0____\n",
      "__TREE0____TREE1____TREE2____TREE3____TREE4____TREE5____TREE6____TREE7____TREE8____TREE9____TREE10____TREE11____TREE12____TREE13____TREE14____TREE15____TREE16____TREE17____TREE18____TREE19____TREE20____TREE21____TREE22____TREE23____TREE24____TREE25____TREE26____TREE27____TREE28____TREE29____TREE30____TREE31____TREE32____TREE33____TREE34____TREE35____TREE36____TREE37____TREE38____TREE39____TREE40____TREE41____TREE42____TREE43____TREE44____TREE45____TREE46____TREE47____TREE48____TREE49__\n",
      "____Fold1____\n",
      "__TREE0____TREE1____TREE2____TREE3____TREE4____TREE5____TREE6____TREE7____TREE8____TREE9____TREE10____TREE11____TREE12____TREE13____TREE14____TREE15____TREE16____TREE17____TREE18____TREE19____TREE20____TREE21____TREE22____TREE23____TREE24____TREE25____TREE26____TREE27____TREE28____TREE29____TREE30____TREE31____TREE32____TREE33____TREE34____TREE35____TREE36____TREE37____TREE38____TREE39____TREE40____TREE41____TREE42____TREE43____TREE44____TREE45____TREE46____TREE47____TREE48____TREE49__\n",
      "____Fold2____\n",
      "__TREE0____TREE1____TREE2____TREE3____TREE4____TREE5____TREE6____TREE7____TREE8____TREE9____TREE10____TREE11____TREE12____TREE13____TREE14____TREE15____TREE16____TREE17____TREE18____TREE19____TREE20____TREE21____TREE22____TREE23____TREE24____TREE25____TREE26____TREE27____TREE28____TREE29____TREE30____TREE31____TREE32____TREE33____TREE34____TREE35____TREE36____TREE37____TREE38____TREE39____TREE40____TREE41____TREE42____TREE43____TREE44____TREE45____TREE46____TREE47____TREE48____TREE49__\n",
      "____Fold3____\n",
      "__TREE0____TREE1____TREE2____TREE3____TREE4____TREE5____TREE6____TREE7____TREE8____TREE9____TREE10____TREE11____TREE12____TREE13____TREE14____TREE15____TREE16____TREE17____TREE18____TREE19____TREE20____TREE21____TREE22____TREE23____TREE24____TREE25____TREE26____TREE27____TREE28____TREE29____TREE30____TREE31____TREE32____TREE33____TREE34____TREE35____TREE36____TREE37____TREE38____TREE39____TREE40____TREE41____TREE42____TREE43____TREE44____TREE45____TREE46____TREE47____TREE48____TREE49__\n",
      "____Fold4____\n",
      "__TREE0____TREE1____TREE2____TREE3____TREE4____TREE5____TREE6____TREE7____TREE8____TREE9____TREE10____TREE11____TREE12____TREE13____TREE14____TREE15____TREE16____TREE17____TREE18____TREE19____TREE20____TREE21____TREE22____TREE23____TREE24____TREE25____TREE26____TREE27____TREE28____TREE29____TREE30____TREE31____TREE32____TREE33____TREE34____TREE35____TREE36____TREE37____TREE38____TREE39____TREE40____TREE41____TREE42____TREE43____TREE44____TREE45____TREE46____TREE47____TREE48____TREE49__\n",
      "____Fold5____\n",
      "__TREE0____TREE1____TREE2____TREE3____TREE4____TREE5____TREE6____TREE7____TREE8____TREE9____TREE10____TREE11____TREE12____TREE13____TREE14____TREE15____TREE16____TREE17____TREE18____TREE19____TREE20____TREE21____TREE22____TREE23____TREE24____TREE25____TREE26____TREE27____TREE28____TREE29____TREE30____TREE31____TREE32____TREE33____TREE34____TREE35____TREE36____TREE37____TREE38____TREE39____TREE40____TREE41____TREE42____TREE43____TREE44____TREE45____TREE46____TREE47____TREE48____TREE49__\n",
      "____Fold6____\n",
      "__TREE0____TREE1____TREE2____TREE3____TREE4____TREE5____TREE6____TREE7____TREE8____TREE9____TREE10____TREE11____TREE12____TREE13____TREE14____TREE15____TREE16____TREE17____TREE18____TREE19____TREE20____TREE21____TREE22____TREE23____TREE24____TREE25____TREE26____TREE27____TREE28____TREE29____TREE30____TREE31____TREE32____TREE33____TREE34____TREE35____TREE36____TREE37____TREE38____TREE39____TREE40____TREE41____TREE42____TREE43____TREE44____TREE45____TREE46____TREE47____TREE48____TREE49__\n",
      "____Fold7____\n",
      "__TREE0____TREE1____TREE2____TREE3____TREE4____TREE5____TREE6____TREE7____TREE8____TREE9____TREE10____TREE11____TREE12____TREE13____TREE14____TREE15____TREE16____TREE17____TREE18____TREE19____TREE20____TREE21____TREE22____TREE23____TREE24____TREE25____TREE26____TREE27____TREE28____TREE29____TREE30____TREE31____TREE32____TREE33____TREE34____TREE35____TREE36____TREE37____TREE38____TREE39____TREE40____TREE41____TREE42____TREE43____TREE44____TREE45____TREE46____TREE47____TREE48____TREE49__\n",
      "____Fold8____\n",
      "__TREE0____TREE1____TREE2____TREE3____TREE4____TREE5____TREE6____TREE7____TREE8____TREE9____TREE10____TREE11____TREE12____TREE13____TREE14____TREE15____TREE16____TREE17____TREE18____TREE19____TREE20____TREE21____TREE22____TREE23____TREE24____TREE25____TREE26____TREE27____TREE28____TREE29____TREE30____TREE31____TREE32____TREE33____TREE34____TREE35____TREE36____TREE37____TREE38____TREE39____TREE40____TREE41____TREE42____TREE43____TREE44____TREE45____TREE46____TREE47____TREE48____TREE49__\n",
      "____Fold9____\n",
      "__TREE0____TREE1____TREE2____TREE3____TREE4____TREE5____TREE6____TREE7____TREE8____TREE9____TREE10____TREE11____TREE12____TREE13____TREE14____TREE15____TREE16____TREE17____TREE18____TREE19____TREE20____TREE21____TREE22____TREE23____TREE24____TREE25____TREE26____TREE27____TREE28____TREE29____TREE30____TREE31____TREE32____TREE33____TREE34____TREE35____TREE36____TREE37____TREE38____TREE39____TREE40____TREE41____TREE42____TREE43____TREE44____TREE45____TREE46____TREE47____TREE48____TREE49__"
     ]
    }
   ],
   "source": [
    "'''\n",
    "INITIAL PARAMETERS\n",
    "\n",
    "'''\n",
    "INPUT_PATH = 'data/house_votes_84/house-votes-84.tsv'\n",
    "STRUCTURE_PATH = 'data/house_votes_84/metadata.yaml'\n",
    "obj = Dataset(INPUT_PATH, STRUCTURE_PATH, '\\t', 'target')\n",
    "random.seed(1)\n",
    "k = 10\n",
    "n_tree = 50\n",
    "\n",
    "cols = []\n",
    "cols = cols + (list(zip([str(j['name']) for j in obj.categorical_features], [True for i in range(len(obj.categorical_features))])))\n",
    "cols = cols + (list(zip([str(j['name']) for j in obj.continuous_features], [False for i in range(len(obj.continuous_features))])))\n",
    "\n",
    "(mat_pred_2, mat_real_2) = generate_matrix(obj, cols, k, n_tree)"
   ]
  },
  {
   "cell_type": "code",
   "execution_count": 46,
   "metadata": {},
   "outputs": [
    {
     "data": {
      "text/plain": [
       "array([[ 1,  1,  1,  1,  1,  1,  1,  1,  1,  1,  1,  1,  1,  1,  1,  1,\n",
       "         0,  0,  0,  0,  0,  0,  0,  0,  0,  0,  0,  0,  0,  0,  0,  0,\n",
       "         0,  0,  0,  0,  0,  0,  0,  0,  0,  0, -1, -1, -1, -1, -1, -1,\n",
       "        -1, -1, -1, -1, -1, -1, -1, -1, -1],\n",
       "       [ 1,  1,  1,  1,  1,  1,  1,  1,  1,  1,  1,  1,  1,  1,  1,  1,\n",
       "         0,  0,  0,  0,  0,  0,  0,  0,  0,  0,  0,  0,  0,  0,  0,  0,\n",
       "         0,  0,  0,  0,  0,  0,  0,  0,  0,  0, -1, -1, -1, -1, -1, -1,\n",
       "        -1, -1, -1, -1, -1, -1, -1, -1, -1],\n",
       "       [ 1,  1,  1,  1,  1,  1,  1,  1,  1,  1,  1,  1,  1,  1,  1,  1,\n",
       "         0,  0,  0,  0,  0,  0,  0,  0,  0,  0,  0,  0,  0,  0,  0,  0,\n",
       "         0,  0,  0,  0,  0,  0,  0,  0,  0,  0, -1, -1, -1, -1, -1, -1,\n",
       "        -1, -1, -1, -1, -1, -1, -1, -1, -1],\n",
       "       [ 1,  1,  1,  1,  1,  1,  1,  1,  1,  1,  1,  1,  1,  1,  1,  1,\n",
       "         0,  0,  0,  0,  0,  0,  0,  0,  0,  0,  0,  0,  0,  0,  0,  0,\n",
       "         0,  0,  0,  0,  0,  0,  0,  0,  0,  0, -1, -1, -1, -1, -1, -1,\n",
       "        -1, -1, -1, -1, -1, -1, -1, -1, -1],\n",
       "       [ 1,  1,  1,  1,  1,  1,  1,  1,  1,  1,  1,  1,  1,  1,  1,  1,\n",
       "         0,  0,  0,  0,  0,  0,  0,  0,  0,  0,  0,  0,  0,  0,  0,  0,\n",
       "         0,  0,  0,  0,  0,  0,  0,  0,  0,  0, -1, -1, -1, -1, -1, -1,\n",
       "        -1, -1, -1, -1, -1, -1, -1, -1, -1],\n",
       "       [ 1,  1,  1,  1,  1,  1,  1,  1,  1,  1,  1,  1,  1,  1,  1,  1,\n",
       "         0,  0,  0,  0,  0,  0,  0,  0,  0,  0,  0,  0,  0,  0,  0,  0,\n",
       "         0,  0,  0,  0,  0,  0,  0,  0,  0,  0, -1, -1, -1, -1, -1, -1,\n",
       "        -1, -1, -1, -1, -1, -1, -1, -1, -1],\n",
       "       [ 1,  1,  1,  1,  1,  1,  1,  1,  1,  1,  1,  1,  1,  1,  1,  1,\n",
       "         0,  0,  0,  0,  0,  0,  0,  0,  0,  0,  0,  0,  0,  0,  0,  0,\n",
       "         0,  0,  0,  0,  0,  0,  0,  0,  0,  0, -1, -1, -1, -1, -1, -1,\n",
       "        -1, -1, -1, -1, -1, -1, -1, -1, -1],\n",
       "       [ 1,  1,  1,  1,  1,  1,  1,  1,  1,  1,  1,  1,  1,  1,  1,  1,\n",
       "         0,  0,  0,  0,  0,  0,  0,  0,  0,  0,  0,  0,  0,  0,  0,  0,\n",
       "         0,  0,  0,  0,  0,  0,  0,  0,  0,  0, -1, -1, -1, -1, -1, -1,\n",
       "        -1, -1, -1, -1, -1, -1, -1, -1, -1],\n",
       "       [ 1,  1,  1,  1,  1,  1,  1,  1,  1,  1,  1,  1,  1,  1,  1,  1,\n",
       "         0,  0,  0,  0,  0,  0,  0,  0,  0,  0,  0,  0,  0,  0,  0,  0,\n",
       "         0,  0,  0,  0,  0,  0,  0,  0,  0,  0, -1, -1, -1, -1, -1, -1,\n",
       "        -1, -1, -1, -1, -1, -1, -1, -1, -1],\n",
       "       [ 1,  1,  1,  1,  1,  1,  1,  1,  1,  1,  1,  1,  1,  1,  1,  1,\n",
       "         1,  1,  1,  1,  1,  1,  1,  1,  0,  0,  0,  0,  0,  0,  0,  0,\n",
       "         0,  0,  0,  0,  0,  0,  0,  0,  0,  0,  0,  0,  0,  0,  0,  0,\n",
       "         0,  0,  0,  0,  0,  0,  0,  0,  0]])"
      ]
     },
     "execution_count": 46,
     "metadata": {},
     "output_type": "execute_result"
    }
   ],
   "source": [
    "mat_real_2"
   ]
  },
  {
   "cell_type": "code",
   "execution_count": 36,
   "metadata": {},
   "outputs": [
    {
     "data": {
      "text/plain": [
       "array([[ 1,  1,  1, ..., -1, -1, -1],\n",
       "       [ 1,  1,  1, ..., -1, -1, -1],\n",
       "       [ 1,  1,  1, ..., -1, -1, -1],\n",
       "       ...,\n",
       "       [ 1,  1,  1, ..., -1, -1, -1],\n",
       "       [ 1,  1,  1, ..., -1, -1, -1],\n",
       "       [ 1,  1,  1, ..., -1, -1, -1]])"
      ]
     },
     "execution_count": 36,
     "metadata": {},
     "output_type": "execute_result"
    }
   ],
   "source": [
    "mat_pred_2[0]"
   ]
  },
  {
   "cell_type": "code",
   "execution_count": null,
   "metadata": {},
   "outputs": [],
   "source": []
  },
  {
   "cell_type": "code",
   "execution_count": null,
   "metadata": {},
   "outputs": [],
   "source": [
    "# INPUT_PATH = 'data/own_test_benchmark/test_benchmark.csv'\n",
    "# STRUCTURE_PATH = 'data/own_test_benchmark/metadata.yaml'\n",
    "# obj = Dataset(INPUT_PATH, STRUCTURE_PATH, ';', 'target')\n",
    "# cols = []\n",
    "# cols = cols + (list(zip([j['name'] for j in obj.categorical_features], [True for i in range(len(obj.categorical_features))])))\n",
    "# cols = cols + (list(zip([j['name'] for j in obj.continuous_features], [False for i in range(len(obj.continuous_features))])))\n",
    "# cols"
   ]
  }
 ],
 "metadata": {
  "kernelspec": {
   "display_name": "Python 3",
   "language": "python",
   "name": "python3"
  },
  "language_info": {
   "codemirror_mode": {
    "name": "ipython",
    "version": 3
   },
   "file_extension": ".py",
   "mimetype": "text/x-python",
   "name": "python",
   "nbconvert_exporter": "python",
   "pygments_lexer": "ipython3",
   "version": "3.6.9"
  }
 },
 "nbformat": 4,
 "nbformat_minor": 4
}
