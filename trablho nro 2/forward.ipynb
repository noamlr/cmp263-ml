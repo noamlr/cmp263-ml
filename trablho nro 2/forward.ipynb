{
 "cells": [
  {
   "cell_type": "code",
   "execution_count": 97,
   "metadata": {},
   "outputs": [],
   "source": [
    "import pandas as pd\n",
    "import yaml\n",
    "import numpy as np\n",
    "import random\n",
    "from math import log2, sqrt, exp\n"
   ]
  },
  {
   "cell_type": "code",
   "execution_count": 115,
   "metadata": {},
   "outputs": [],
   "source": [
    "# setting of the parameters of neural networks\n",
    "L = 4; # Nro of the layers in the neural networks\n",
    "x = np.array([0,1,5,3,2]) # inputs\n",
    "N_l= np.array([x.size,3,3,2],dtype=int) # array that content the number of the neurons for each layers\n",
    "weights= {} # save the weights of the neural network\n",
    "# we generate the weights randomly\n",
    "for i in range(0,L-1):\n",
    "    weights[i] = np.random.rand(N_l[i+1],N_l[i]+1)\n",
    "alpha = 1"
   ]
  },
  {
   "cell_type": "code",
   "execution_count": 116,
   "metadata": {},
   "outputs": [],
   "source": [
    "def g(theta):\n",
    "    return 1/(1+np.exp(-theta))\n",
    "\n",
    "def Update_weight(weights,d_weights,aplha):\n",
    "    for i in range(0,L-1):\n",
    "        weights[i] = weights[i] - aplha*d_weights\n",
    "    return weights\n",
    "\n",
    "def forward(x,L,N_l,weights):\n",
    "    for i in range(0,L-1):\n",
    "        z = weights[i].dot(np.append(x,1))\n",
    "        x = g(z)\n",
    "    return x"
   ]
  }
 ],
 "metadata": {
  "kernelspec": {
   "display_name": "Python 3",
   "language": "python",
   "name": "python3"
  },
  "language_info": {
   "codemirror_mode": {
    "name": "ipython",
    "version": 3
   },
   "file_extension": ".py",
   "mimetype": "text/x-python",
   "name": "python",
   "nbconvert_exporter": "python",
   "pygments_lexer": "ipython3",
   "version": "3.7.5"
  }
 },
 "nbformat": 4,
 "nbformat_minor": 4
}
